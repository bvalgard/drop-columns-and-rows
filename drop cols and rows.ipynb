{
  "cells": [
    {
      "cell_type": "code",
      "source": [],
      "outputs": [],
      "execution_count": null,
      "metadata": {}
    },
    {
      "cell_type": "markdown",
      "source": [
        "Check out the YouTube video for this Notebook: https://youtu.be/oeGk7hrXMlY"
      ],
      "metadata": {}
    },
    {
      "cell_type": "code",
      "source": [
        "import pandas as pd\n",
        "import numpy as np"
      ],
      "outputs": [],
      "execution_count": 1,
      "metadata": {}
    },
    {
      "cell_type": "code",
      "source": [
        "df = pd.DataFrame(np.random.rand(25,5), \n",
        "                  columns=['A','B','C','D','E'])\n",
        "df.head()"
      ],
      "outputs": [
        {
          "output_type": "execute_result",
          "execution_count": 2,
          "data": {
            "text/html": "<div>\n<style scoped>\n    .dataframe tbody tr th:only-of-type {\n        vertical-align: middle;\n    }\n\n    .dataframe tbody tr th {\n        vertical-align: top;\n    }\n\n    .dataframe thead th {\n        text-align: right;\n    }\n</style>\n<table border=\"1\" class=\"dataframe\">\n  <thead>\n    <tr style=\"text-align: right;\">\n      <th></th>\n      <th>A</th>\n      <th>B</th>\n      <th>C</th>\n      <th>D</th>\n      <th>E</th>\n    </tr>\n  </thead>\n  <tbody>\n    <tr>\n      <th>0</th>\n      <td>0.757768</td>\n      <td>0.499767</td>\n      <td>0.991074</td>\n      <td>0.467322</td>\n      <td>0.185971</td>\n    </tr>\n    <tr>\n      <th>1</th>\n      <td>0.376774</td>\n      <td>0.444771</td>\n      <td>0.065124</td>\n      <td>0.325186</td>\n      <td>0.128244</td>\n    </tr>\n    <tr>\n      <th>2</th>\n      <td>0.073639</td>\n      <td>0.431330</td>\n      <td>0.833310</td>\n      <td>0.844773</td>\n      <td>0.236214</td>\n    </tr>\n    <tr>\n      <th>3</th>\n      <td>0.209829</td>\n      <td>0.750343</td>\n      <td>0.710588</td>\n      <td>0.279962</td>\n      <td>0.268711</td>\n    </tr>\n    <tr>\n      <th>4</th>\n      <td>0.477800</td>\n      <td>0.162302</td>\n      <td>0.429098</td>\n      <td>0.932289</td>\n      <td>0.967644</td>\n    </tr>\n  </tbody>\n</table>\n</div>",
            "text/plain": "          A         B         C         D         E\n0  0.757768  0.499767  0.991074  0.467322  0.185971\n1  0.376774  0.444771  0.065124  0.325186  0.128244\n2  0.073639  0.431330  0.833310  0.844773  0.236214\n3  0.209829  0.750343  0.710588  0.279962  0.268711\n4  0.477800  0.162302  0.429098  0.932289  0.967644"
          },
          "metadata": {}
        }
      ],
      "execution_count": 2,
      "metadata": {}
    },
    {
      "cell_type": "code",
      "source": [
        "df.drop('D', axis=1, inplace=True)"
      ],
      "outputs": [],
      "execution_count": 3,
      "metadata": {}
    },
    {
      "cell_type": "code",
      "source": [
        "df.head()"
      ],
      "outputs": [
        {
          "output_type": "execute_result",
          "execution_count": 4,
          "data": {
            "text/html": "<div>\n<style scoped>\n    .dataframe tbody tr th:only-of-type {\n        vertical-align: middle;\n    }\n\n    .dataframe tbody tr th {\n        vertical-align: top;\n    }\n\n    .dataframe thead th {\n        text-align: right;\n    }\n</style>\n<table border=\"1\" class=\"dataframe\">\n  <thead>\n    <tr style=\"text-align: right;\">\n      <th></th>\n      <th>A</th>\n      <th>B</th>\n      <th>C</th>\n      <th>E</th>\n    </tr>\n  </thead>\n  <tbody>\n    <tr>\n      <th>0</th>\n      <td>0.757768</td>\n      <td>0.499767</td>\n      <td>0.991074</td>\n      <td>0.185971</td>\n    </tr>\n    <tr>\n      <th>1</th>\n      <td>0.376774</td>\n      <td>0.444771</td>\n      <td>0.065124</td>\n      <td>0.128244</td>\n    </tr>\n    <tr>\n      <th>2</th>\n      <td>0.073639</td>\n      <td>0.431330</td>\n      <td>0.833310</td>\n      <td>0.236214</td>\n    </tr>\n    <tr>\n      <th>3</th>\n      <td>0.209829</td>\n      <td>0.750343</td>\n      <td>0.710588</td>\n      <td>0.268711</td>\n    </tr>\n    <tr>\n      <th>4</th>\n      <td>0.477800</td>\n      <td>0.162302</td>\n      <td>0.429098</td>\n      <td>0.967644</td>\n    </tr>\n  </tbody>\n</table>\n</div>",
            "text/plain": "          A         B         C         E\n0  0.757768  0.499767  0.991074  0.185971\n1  0.376774  0.444771  0.065124  0.128244\n2  0.073639  0.431330  0.833310  0.236214\n3  0.209829  0.750343  0.710588  0.268711\n4  0.477800  0.162302  0.429098  0.967644"
          },
          "metadata": {}
        }
      ],
      "execution_count": 4,
      "metadata": {}
    },
    {
      "cell_type": "code",
      "source": [
        "df.drop(['C','E'], axis=1, inplace=True)"
      ],
      "outputs": [],
      "execution_count": 5,
      "metadata": {}
    },
    {
      "cell_type": "code",
      "source": [
        "df.head()"
      ],
      "outputs": [
        {
          "output_type": "execute_result",
          "execution_count": 6,
          "data": {
            "text/html": "<div>\n<style scoped>\n    .dataframe tbody tr th:only-of-type {\n        vertical-align: middle;\n    }\n\n    .dataframe tbody tr th {\n        vertical-align: top;\n    }\n\n    .dataframe thead th {\n        text-align: right;\n    }\n</style>\n<table border=\"1\" class=\"dataframe\">\n  <thead>\n    <tr style=\"text-align: right;\">\n      <th></th>\n      <th>A</th>\n      <th>B</th>\n    </tr>\n  </thead>\n  <tbody>\n    <tr>\n      <th>0</th>\n      <td>0.757768</td>\n      <td>0.499767</td>\n    </tr>\n    <tr>\n      <th>1</th>\n      <td>0.376774</td>\n      <td>0.444771</td>\n    </tr>\n    <tr>\n      <th>2</th>\n      <td>0.073639</td>\n      <td>0.431330</td>\n    </tr>\n    <tr>\n      <th>3</th>\n      <td>0.209829</td>\n      <td>0.750343</td>\n    </tr>\n    <tr>\n      <th>4</th>\n      <td>0.477800</td>\n      <td>0.162302</td>\n    </tr>\n  </tbody>\n</table>\n</div>",
            "text/plain": "          A         B\n0  0.757768  0.499767\n1  0.376774  0.444771\n2  0.073639  0.431330\n3  0.209829  0.750343\n4  0.477800  0.162302"
          },
          "metadata": {}
        }
      ],
      "execution_count": 6,
      "metadata": {}
    },
    {
      "cell_type": "code",
      "source": [
        "df = pd.DataFrame(np.random.rand(25,5), \n",
        "                  columns=['A','B','C','D','E'])\n",
        "df.head()"
      ],
      "outputs": [
        {
          "output_type": "execute_result",
          "execution_count": 7,
          "data": {
            "text/html": "<div>\n<style scoped>\n    .dataframe tbody tr th:only-of-type {\n        vertical-align: middle;\n    }\n\n    .dataframe tbody tr th {\n        vertical-align: top;\n    }\n\n    .dataframe thead th {\n        text-align: right;\n    }\n</style>\n<table border=\"1\" class=\"dataframe\">\n  <thead>\n    <tr style=\"text-align: right;\">\n      <th></th>\n      <th>A</th>\n      <th>B</th>\n      <th>C</th>\n      <th>D</th>\n      <th>E</th>\n    </tr>\n  </thead>\n  <tbody>\n    <tr>\n      <th>0</th>\n      <td>0.537713</td>\n      <td>0.966010</td>\n      <td>0.689126</td>\n      <td>0.314249</td>\n      <td>0.057186</td>\n    </tr>\n    <tr>\n      <th>1</th>\n      <td>0.418816</td>\n      <td>0.949463</td>\n      <td>0.749119</td>\n      <td>0.508121</td>\n      <td>0.115784</td>\n    </tr>\n    <tr>\n      <th>2</th>\n      <td>0.451095</td>\n      <td>0.901666</td>\n      <td>0.521316</td>\n      <td>0.741188</td>\n      <td>0.066897</td>\n    </tr>\n    <tr>\n      <th>3</th>\n      <td>0.116559</td>\n      <td>0.505583</td>\n      <td>0.364555</td>\n      <td>0.481038</td>\n      <td>0.181461</td>\n    </tr>\n    <tr>\n      <th>4</th>\n      <td>0.206912</td>\n      <td>0.413132</td>\n      <td>0.701775</td>\n      <td>0.274907</td>\n      <td>0.242886</td>\n    </tr>\n  </tbody>\n</table>\n</div>",
            "text/plain": "          A         B         C         D         E\n0  0.537713  0.966010  0.689126  0.314249  0.057186\n1  0.418816  0.949463  0.749119  0.508121  0.115784\n2  0.451095  0.901666  0.521316  0.741188  0.066897\n3  0.116559  0.505583  0.364555  0.481038  0.181461\n4  0.206912  0.413132  0.701775  0.274907  0.242886"
          },
          "metadata": {}
        }
      ],
      "execution_count": 7,
      "metadata": {}
    },
    {
      "cell_type": "code",
      "source": [
        "df = df[['A','B']]\n",
        "df"
      ],
      "outputs": [
        {
          "output_type": "execute_result",
          "execution_count": 8,
          "data": {
            "text/html": "<div>\n<style scoped>\n    .dataframe tbody tr th:only-of-type {\n        vertical-align: middle;\n    }\n\n    .dataframe tbody tr th {\n        vertical-align: top;\n    }\n\n    .dataframe thead th {\n        text-align: right;\n    }\n</style>\n<table border=\"1\" class=\"dataframe\">\n  <thead>\n    <tr style=\"text-align: right;\">\n      <th></th>\n      <th>A</th>\n      <th>B</th>\n    </tr>\n  </thead>\n  <tbody>\n    <tr>\n      <th>0</th>\n      <td>0.537713</td>\n      <td>0.966010</td>\n    </tr>\n    <tr>\n      <th>1</th>\n      <td>0.418816</td>\n      <td>0.949463</td>\n    </tr>\n    <tr>\n      <th>2</th>\n      <td>0.451095</td>\n      <td>0.901666</td>\n    </tr>\n    <tr>\n      <th>3</th>\n      <td>0.116559</td>\n      <td>0.505583</td>\n    </tr>\n    <tr>\n      <th>4</th>\n      <td>0.206912</td>\n      <td>0.413132</td>\n    </tr>\n    <tr>\n      <th>5</th>\n      <td>0.594967</td>\n      <td>0.342494</td>\n    </tr>\n    <tr>\n      <th>6</th>\n      <td>0.020569</td>\n      <td>0.804403</td>\n    </tr>\n    <tr>\n      <th>7</th>\n      <td>0.338698</td>\n      <td>0.299782</td>\n    </tr>\n    <tr>\n      <th>8</th>\n      <td>0.346179</td>\n      <td>0.403988</td>\n    </tr>\n    <tr>\n      <th>9</th>\n      <td>0.629635</td>\n      <td>0.831176</td>\n    </tr>\n    <tr>\n      <th>10</th>\n      <td>0.150500</td>\n      <td>0.175249</td>\n    </tr>\n    <tr>\n      <th>11</th>\n      <td>0.239597</td>\n      <td>0.405437</td>\n    </tr>\n    <tr>\n      <th>12</th>\n      <td>0.317847</td>\n      <td>0.139284</td>\n    </tr>\n    <tr>\n      <th>13</th>\n      <td>0.338533</td>\n      <td>0.468271</td>\n    </tr>\n    <tr>\n      <th>14</th>\n      <td>0.836108</td>\n      <td>0.935330</td>\n    </tr>\n    <tr>\n      <th>15</th>\n      <td>0.587931</td>\n      <td>0.145360</td>\n    </tr>\n    <tr>\n      <th>16</th>\n      <td>0.857048</td>\n      <td>0.990104</td>\n    </tr>\n    <tr>\n      <th>17</th>\n      <td>0.568224</td>\n      <td>0.249682</td>\n    </tr>\n    <tr>\n      <th>18</th>\n      <td>0.680885</td>\n      <td>0.250054</td>\n    </tr>\n    <tr>\n      <th>19</th>\n      <td>0.765137</td>\n      <td>0.652056</td>\n    </tr>\n    <tr>\n      <th>20</th>\n      <td>0.065629</td>\n      <td>0.011690</td>\n    </tr>\n    <tr>\n      <th>21</th>\n      <td>0.107785</td>\n      <td>0.807287</td>\n    </tr>\n    <tr>\n      <th>22</th>\n      <td>0.273842</td>\n      <td>0.528227</td>\n    </tr>\n    <tr>\n      <th>23</th>\n      <td>0.269615</td>\n      <td>0.611904</td>\n    </tr>\n    <tr>\n      <th>24</th>\n      <td>0.951882</td>\n      <td>0.944214</td>\n    </tr>\n  </tbody>\n</table>\n</div>",
            "text/plain": "           A         B\n0   0.537713  0.966010\n1   0.418816  0.949463\n2   0.451095  0.901666\n3   0.116559  0.505583\n4   0.206912  0.413132\n5   0.594967  0.342494\n6   0.020569  0.804403\n7   0.338698  0.299782\n8   0.346179  0.403988\n9   0.629635  0.831176\n10  0.150500  0.175249\n11  0.239597  0.405437\n12  0.317847  0.139284\n13  0.338533  0.468271\n14  0.836108  0.935330\n15  0.587931  0.145360\n16  0.857048  0.990104\n17  0.568224  0.249682\n18  0.680885  0.250054\n19  0.765137  0.652056\n20  0.065629  0.011690\n21  0.107785  0.807287\n22  0.273842  0.528227\n23  0.269615  0.611904\n24  0.951882  0.944214"
          },
          "metadata": {}
        }
      ],
      "execution_count": 8,
      "metadata": {}
    },
    {
      "cell_type": "code",
      "source": [
        "df.drop([0,3], axis=0, inplace=True)\n",
        "df"
      ],
      "outputs": [
        {
          "output_type": "execute_result",
          "execution_count": 9,
          "data": {
            "text/html": "<div>\n<style scoped>\n    .dataframe tbody tr th:only-of-type {\n        vertical-align: middle;\n    }\n\n    .dataframe tbody tr th {\n        vertical-align: top;\n    }\n\n    .dataframe thead th {\n        text-align: right;\n    }\n</style>\n<table border=\"1\" class=\"dataframe\">\n  <thead>\n    <tr style=\"text-align: right;\">\n      <th></th>\n      <th>A</th>\n      <th>B</th>\n    </tr>\n  </thead>\n  <tbody>\n    <tr>\n      <th>1</th>\n      <td>0.418816</td>\n      <td>0.949463</td>\n    </tr>\n    <tr>\n      <th>2</th>\n      <td>0.451095</td>\n      <td>0.901666</td>\n    </tr>\n    <tr>\n      <th>4</th>\n      <td>0.206912</td>\n      <td>0.413132</td>\n    </tr>\n    <tr>\n      <th>5</th>\n      <td>0.594967</td>\n      <td>0.342494</td>\n    </tr>\n    <tr>\n      <th>6</th>\n      <td>0.020569</td>\n      <td>0.804403</td>\n    </tr>\n    <tr>\n      <th>7</th>\n      <td>0.338698</td>\n      <td>0.299782</td>\n    </tr>\n    <tr>\n      <th>8</th>\n      <td>0.346179</td>\n      <td>0.403988</td>\n    </tr>\n    <tr>\n      <th>9</th>\n      <td>0.629635</td>\n      <td>0.831176</td>\n    </tr>\n    <tr>\n      <th>10</th>\n      <td>0.150500</td>\n      <td>0.175249</td>\n    </tr>\n    <tr>\n      <th>11</th>\n      <td>0.239597</td>\n      <td>0.405437</td>\n    </tr>\n    <tr>\n      <th>12</th>\n      <td>0.317847</td>\n      <td>0.139284</td>\n    </tr>\n    <tr>\n      <th>13</th>\n      <td>0.338533</td>\n      <td>0.468271</td>\n    </tr>\n    <tr>\n      <th>14</th>\n      <td>0.836108</td>\n      <td>0.935330</td>\n    </tr>\n    <tr>\n      <th>15</th>\n      <td>0.587931</td>\n      <td>0.145360</td>\n    </tr>\n    <tr>\n      <th>16</th>\n      <td>0.857048</td>\n      <td>0.990104</td>\n    </tr>\n    <tr>\n      <th>17</th>\n      <td>0.568224</td>\n      <td>0.249682</td>\n    </tr>\n    <tr>\n      <th>18</th>\n      <td>0.680885</td>\n      <td>0.250054</td>\n    </tr>\n    <tr>\n      <th>19</th>\n      <td>0.765137</td>\n      <td>0.652056</td>\n    </tr>\n    <tr>\n      <th>20</th>\n      <td>0.065629</td>\n      <td>0.011690</td>\n    </tr>\n    <tr>\n      <th>21</th>\n      <td>0.107785</td>\n      <td>0.807287</td>\n    </tr>\n    <tr>\n      <th>22</th>\n      <td>0.273842</td>\n      <td>0.528227</td>\n    </tr>\n    <tr>\n      <th>23</th>\n      <td>0.269615</td>\n      <td>0.611904</td>\n    </tr>\n    <tr>\n      <th>24</th>\n      <td>0.951882</td>\n      <td>0.944214</td>\n    </tr>\n  </tbody>\n</table>\n</div>",
            "text/plain": "           A         B\n1   0.418816  0.949463\n2   0.451095  0.901666\n4   0.206912  0.413132\n5   0.594967  0.342494\n6   0.020569  0.804403\n7   0.338698  0.299782\n8   0.346179  0.403988\n9   0.629635  0.831176\n10  0.150500  0.175249\n11  0.239597  0.405437\n12  0.317847  0.139284\n13  0.338533  0.468271\n14  0.836108  0.935330\n15  0.587931  0.145360\n16  0.857048  0.990104\n17  0.568224  0.249682\n18  0.680885  0.250054\n19  0.765137  0.652056\n20  0.065629  0.011690\n21  0.107785  0.807287\n22  0.273842  0.528227\n23  0.269615  0.611904\n24  0.951882  0.944214"
          },
          "metadata": {}
        }
      ],
      "execution_count": 9,
      "metadata": {}
    },
    {
      "cell_type": "code",
      "source": [
        "# This code is based on data from the user guide \n",
        "# https://pandas.pydata.org/pandas-docs/stable/user_guide/advanced.html\n",
        "# I have modified in slightly for demonstration purposes\n",
        "# I change the second array from one and two to height, weight, and girth\n",
        "# I added an extra bar, baz, foo, and qux to balance the arrays\n",
        "\n",
        "# these arrays will create the multiindex\n",
        "arrays = [np.array(['bar', 'bar', 'bar', 'baz', 'baz', 'baz', 'foo', 'foo', 'foo', 'qux', 'qux', 'qux']),\n",
        "          np.array(['height', 'weight', 'girth', 'height', 'weight', 'girth',\n",
        "                    'height', 'weight', 'girth', 'height', 'weight', 'girth'])]\n",
        "\n",
        "# create a df with random data \n",
        "multi = pd.DataFrame(np.random.randn(12, 4), index=arrays, columns=['A','B','C','D'])\n",
        "multi"
      ],
      "outputs": [
        {
          "output_type": "execute_result",
          "execution_count": 14,
          "data": {
            "text/html": "<div>\n<style scoped>\n    .dataframe tbody tr th:only-of-type {\n        vertical-align: middle;\n    }\n\n    .dataframe tbody tr th {\n        vertical-align: top;\n    }\n\n    .dataframe thead th {\n        text-align: right;\n    }\n</style>\n<table border=\"1\" class=\"dataframe\">\n  <thead>\n    <tr style=\"text-align: right;\">\n      <th></th>\n      <th></th>\n      <th>A</th>\n      <th>B</th>\n      <th>C</th>\n      <th>D</th>\n    </tr>\n  </thead>\n  <tbody>\n    <tr>\n      <th rowspan=\"3\" valign=\"top\">bar</th>\n      <th>height</th>\n      <td>1.082323</td>\n      <td>1.263825</td>\n      <td>1.141520</td>\n      <td>-2.170770</td>\n    </tr>\n    <tr>\n      <th>weight</th>\n      <td>1.238568</td>\n      <td>0.097739</td>\n      <td>-0.844915</td>\n      <td>0.245303</td>\n    </tr>\n    <tr>\n      <th>girth</th>\n      <td>1.257895</td>\n      <td>-0.562331</td>\n      <td>-1.631914</td>\n      <td>0.866319</td>\n    </tr>\n    <tr>\n      <th rowspan=\"3\" valign=\"top\">baz</th>\n      <th>height</th>\n      <td>0.077498</td>\n      <td>-0.885936</td>\n      <td>-1.822179</td>\n      <td>-0.120108</td>\n    </tr>\n    <tr>\n      <th>weight</th>\n      <td>-0.199500</td>\n      <td>1.065188</td>\n      <td>-0.197853</td>\n      <td>0.723689</td>\n    </tr>\n    <tr>\n      <th>girth</th>\n      <td>1.008897</td>\n      <td>-0.451450</td>\n      <td>-0.286513</td>\n      <td>-0.333350</td>\n    </tr>\n    <tr>\n      <th rowspan=\"3\" valign=\"top\">foo</th>\n      <th>height</th>\n      <td>-1.536064</td>\n      <td>1.299207</td>\n      <td>1.619732</td>\n      <td>-0.782330</td>\n    </tr>\n    <tr>\n      <th>weight</th>\n      <td>1.865210</td>\n      <td>0.806204</td>\n      <td>0.391850</td>\n      <td>0.959635</td>\n    </tr>\n    <tr>\n      <th>girth</th>\n      <td>-0.470385</td>\n      <td>0.727217</td>\n      <td>0.729832</td>\n      <td>0.017204</td>\n    </tr>\n    <tr>\n      <th rowspan=\"3\" valign=\"top\">qux</th>\n      <th>height</th>\n      <td>-0.929852</td>\n      <td>-0.064276</td>\n      <td>-1.702425</td>\n      <td>-0.558189</td>\n    </tr>\n    <tr>\n      <th>weight</th>\n      <td>1.115214</td>\n      <td>1.097343</td>\n      <td>-0.360920</td>\n      <td>0.021491</td>\n    </tr>\n    <tr>\n      <th>girth</th>\n      <td>-0.283960</td>\n      <td>0.345365</td>\n      <td>0.120825</td>\n      <td>-0.325321</td>\n    </tr>\n  </tbody>\n</table>\n</div>",
            "text/plain": "                   A         B         C         D\nbar height  1.082323  1.263825  1.141520 -2.170770\n    weight  1.238568  0.097739 -0.844915  0.245303\n    girth   1.257895 -0.562331 -1.631914  0.866319\nbaz height  0.077498 -0.885936 -1.822179 -0.120108\n    weight -0.199500  1.065188 -0.197853  0.723689\n    girth   1.008897 -0.451450 -0.286513 -0.333350\nfoo height -1.536064  1.299207  1.619732 -0.782330\n    weight  1.865210  0.806204  0.391850  0.959635\n    girth  -0.470385  0.727217  0.729832  0.017204\nqux height -0.929852 -0.064276 -1.702425 -0.558189\n    weight  1.115214  1.097343 -0.360920  0.021491\n    girth  -0.283960  0.345365  0.120825 -0.325321"
          },
          "metadata": {}
        }
      ],
      "execution_count": 14,
      "metadata": {}
    },
    {
      "cell_type": "code",
      "source": [
        "multi.index.names = ['lvl0','lvl1']"
      ],
      "outputs": [],
      "execution_count": 15,
      "metadata": {}
    },
    {
      "cell_type": "code",
      "source": [
        "multi"
      ],
      "outputs": [
        {
          "output_type": "execute_result",
          "execution_count": 16,
          "data": {
            "text/html": "<div>\n<style scoped>\n    .dataframe tbody tr th:only-of-type {\n        vertical-align: middle;\n    }\n\n    .dataframe tbody tr th {\n        vertical-align: top;\n    }\n\n    .dataframe thead th {\n        text-align: right;\n    }\n</style>\n<table border=\"1\" class=\"dataframe\">\n  <thead>\n    <tr style=\"text-align: right;\">\n      <th></th>\n      <th></th>\n      <th>A</th>\n      <th>B</th>\n      <th>C</th>\n      <th>D</th>\n    </tr>\n    <tr>\n      <th>lvl0</th>\n      <th>lvl1</th>\n      <th></th>\n      <th></th>\n      <th></th>\n      <th></th>\n    </tr>\n  </thead>\n  <tbody>\n    <tr>\n      <th rowspan=\"3\" valign=\"top\">bar</th>\n      <th>height</th>\n      <td>1.082323</td>\n      <td>1.263825</td>\n      <td>1.141520</td>\n      <td>-2.170770</td>\n    </tr>\n    <tr>\n      <th>weight</th>\n      <td>1.238568</td>\n      <td>0.097739</td>\n      <td>-0.844915</td>\n      <td>0.245303</td>\n    </tr>\n    <tr>\n      <th>girth</th>\n      <td>1.257895</td>\n      <td>-0.562331</td>\n      <td>-1.631914</td>\n      <td>0.866319</td>\n    </tr>\n    <tr>\n      <th rowspan=\"3\" valign=\"top\">baz</th>\n      <th>height</th>\n      <td>0.077498</td>\n      <td>-0.885936</td>\n      <td>-1.822179</td>\n      <td>-0.120108</td>\n    </tr>\n    <tr>\n      <th>weight</th>\n      <td>-0.199500</td>\n      <td>1.065188</td>\n      <td>-0.197853</td>\n      <td>0.723689</td>\n    </tr>\n    <tr>\n      <th>girth</th>\n      <td>1.008897</td>\n      <td>-0.451450</td>\n      <td>-0.286513</td>\n      <td>-0.333350</td>\n    </tr>\n    <tr>\n      <th rowspan=\"3\" valign=\"top\">foo</th>\n      <th>height</th>\n      <td>-1.536064</td>\n      <td>1.299207</td>\n      <td>1.619732</td>\n      <td>-0.782330</td>\n    </tr>\n    <tr>\n      <th>weight</th>\n      <td>1.865210</td>\n      <td>0.806204</td>\n      <td>0.391850</td>\n      <td>0.959635</td>\n    </tr>\n    <tr>\n      <th>girth</th>\n      <td>-0.470385</td>\n      <td>0.727217</td>\n      <td>0.729832</td>\n      <td>0.017204</td>\n    </tr>\n    <tr>\n      <th rowspan=\"3\" valign=\"top\">qux</th>\n      <th>height</th>\n      <td>-0.929852</td>\n      <td>-0.064276</td>\n      <td>-1.702425</td>\n      <td>-0.558189</td>\n    </tr>\n    <tr>\n      <th>weight</th>\n      <td>1.115214</td>\n      <td>1.097343</td>\n      <td>-0.360920</td>\n      <td>0.021491</td>\n    </tr>\n    <tr>\n      <th>girth</th>\n      <td>-0.283960</td>\n      <td>0.345365</td>\n      <td>0.120825</td>\n      <td>-0.325321</td>\n    </tr>\n  </tbody>\n</table>\n</div>",
            "text/plain": "                    A         B         C         D\nlvl0 lvl1                                          \nbar  height  1.082323  1.263825  1.141520 -2.170770\n     weight  1.238568  0.097739 -0.844915  0.245303\n     girth   1.257895 -0.562331 -1.631914  0.866319\nbaz  height  0.077498 -0.885936 -1.822179 -0.120108\n     weight -0.199500  1.065188 -0.197853  0.723689\n     girth   1.008897 -0.451450 -0.286513 -0.333350\nfoo  height -1.536064  1.299207  1.619732 -0.782330\n     weight  1.865210  0.806204  0.391850  0.959635\n     girth  -0.470385  0.727217  0.729832  0.017204\nqux  height -0.929852 -0.064276 -1.702425 -0.558189\n     weight  1.115214  1.097343 -0.360920  0.021491\n     girth  -0.283960  0.345365  0.120825 -0.325321"
          },
          "metadata": {}
        }
      ],
      "execution_count": 16,
      "metadata": {}
    },
    {
      "cell_type": "code",
      "source": [],
      "outputs": [],
      "execution_count": null,
      "metadata": {}
    },
    {
      "cell_type": "code",
      "source": [],
      "outputs": [],
      "execution_count": null,
      "metadata": {}
    },
    {
      "cell_type": "code",
      "source": [],
      "outputs": [],
      "execution_count": null,
      "metadata": {}
    },
    {
      "cell_type": "code",
      "source": [],
      "outputs": [],
      "execution_count": null,
      "metadata": {}
    },
    {
      "cell_type": "code",
      "source": [],
      "outputs": [],
      "execution_count": null,
      "metadata": {}
    },
    {
      "cell_type": "code",
      "source": [],
      "outputs": [],
      "execution_count": null,
      "metadata": {}
    },
    {
      "cell_type": "code",
      "source": [],
      "outputs": [],
      "execution_count": null,
      "metadata": {}
    },
    {
      "cell_type": "code",
      "source": [],
      "outputs": [],
      "execution_count": null,
      "metadata": {}
    },
    {
      "cell_type": "code",
      "source": [],
      "outputs": [],
      "execution_count": null,
      "metadata": {}
    },
    {
      "cell_type": "code",
      "source": [],
      "outputs": [],
      "execution_count": null,
      "metadata": {}
    },
    {
      "cell_type": "code",
      "source": [],
      "outputs": [],
      "execution_count": null,
      "metadata": {}
    },
    {
      "cell_type": "code",
      "source": [],
      "outputs": [],
      "execution_count": null,
      "metadata": {}
    },
    {
      "cell_type": "code",
      "source": [],
      "outputs": [],
      "execution_count": null,
      "metadata": {}
    },
    {
      "cell_type": "code",
      "source": [],
      "outputs": [],
      "execution_count": null,
      "metadata": {}
    },
    {
      "cell_type": "code",
      "source": [],
      "outputs": [],
      "execution_count": null,
      "metadata": {}
    },
    {
      "cell_type": "code",
      "source": [
        "import pandas as pd\n",
        "import seaborn as sns\n",
        "\n",
        "list_for_plotting_routine = [[0.0, -0.006, 0.01, -0.004, 0.0, -0.002, -0.002, 0.017, 0.0, 0.017, 0.003, -0.001, -0.003, -0.005, 0.012, 0.031, -0.004, -0.004, -0.004, 0.004, 0.002, 0.003, 0.004, 0.001, -0.003, 0.009000000000000001, -0.006, 0.011000000000000001, 0.011000000000000001, 0.032, 0.013999999999999999, 0.069, 0.004, 0.011000000000000001, 0.01, 0.012, -0.004, -0.006, -0.006999999999999999, 0.004, 0.01, 0.011000000000000001, 0.016, 0.043, 0.023, 0.016, 0.025, 0.011000000000000001, 0.003, -0.004, -0.003, 0.005, 0.017, 0.017, 0.011000000000000001, 0.052000000000000005, 0.033, 0.017, 0.01, 0.012, -0.008, -0.005, -0.006999999999999999, -0.005, -0.006, 0.0, 0.006999999999999999, 0.006999999999999999, 0.001, -0.005, 0.017, 0.009000000000000001, 0.005, 0.001, -0.001, 0.003, -0.002, 0.024, 0.02, 0.017, 0.011000000000000001, 0.01, 0.005, -0.006, 0.01, 0.013999999999999999, 0.01, 0.013999999999999999, 0.005, 0.008, 0.002, 0.006999999999999999, 0.002, -0.002, 0.024, 0.006]]\n",
        "\n",
        "# Flatten list of lists\n",
        "list_for_plotting_routine = [item for sublist in list_for_plotting_routine for item in sublist]\n",
        "\n",
        "# Split list into seperate lists for every 12th element\n",
        "list_of_lists = [list_for_plotting_routine[x:x+12] for x in range(0, len(list_for_plotting_routine), 12)]\n",
        "\n",
        "# Create a df out of list of lists\n",
        "# This step is optional. You can just pass in the list_of_lists\n",
        "# directly into sns.heatmp(list_of_lists)\n",
        "df = pd.DataFrame(list_of_lists)\n",
        "\n",
        "# create heatmap\n",
        "ax = sns.heatmap(list_of_lists)"
      ],
      "outputs": [
        {
          "output_type": "display_data",
          "data": {
            "image/png": "[encoded data removed]",
            "text/plain": "<Figure size 432x288 with 2 Axes>"
          },
          "metadata": {
            "needs_background": "light"
          }
        }
      ],
      "execution_count": 14,
      "metadata": {}
    },
    {
      "cell_type": "code",
      "source": [
        "history = {'validation_0':\n",
        "               {'error': [0.06725,0.067,0.067],\n",
        "                'error@0.7': [0.104125,0.103875,0.103625],\n",
        "                'auc': [0.92729,0.932045,0.934238],\n",
        "               },\n",
        "          'validation_1': \n",
        "              {'error': [0.1535,0.151,0.1505],\n",
        "                'error@0.7': [0.239,0.239,0.239],\n",
        "                'auc': [0.898305,0.905611,0.909242]\n",
        "               }\n",
        "          }"
      ],
      "outputs": [],
      "execution_count": 16,
      "metadata": {}
    },
    {
      "cell_type": "code",
      "source": [
        "df =pd.DataFrame(history)"
      ],
      "outputs": [],
      "execution_count": 18,
      "metadata": {}
    },
    {
      "cell_type": "code",
      "source": [
        "df"
      ],
      "outputs": [
        {
          "output_type": "execute_result",
          "execution_count": 19,
          "data": {
            "text/html": "<div>\n<style scoped>\n    .dataframe tbody tr th:only-of-type {\n        vertical-align: middle;\n    }\n\n    .dataframe tbody tr th {\n        vertical-align: top;\n    }\n\n    .dataframe thead th {\n        text-align: right;\n    }\n</style>\n<table border=\"1\" class=\"dataframe\">\n  <thead>\n    <tr style=\"text-align: right;\">\n      <th></th>\n      <th>validation_0</th>\n      <th>validation_1</th>\n    </tr>\n  </thead>\n  <tbody>\n    <tr>\n      <th>error</th>\n      <td>[0.06725, 0.067, 0.067]</td>\n      <td>[0.1535, 0.151, 0.1505]</td>\n    </tr>\n    <tr>\n      <th>error@0.7</th>\n      <td>[0.104125, 0.103875, 0.103625]</td>\n      <td>[0.239, 0.239, 0.239]</td>\n    </tr>\n    <tr>\n      <th>auc</th>\n      <td>[0.92729, 0.932045, 0.934238]</td>\n      <td>[0.898305, 0.905611, 0.909242]</td>\n    </tr>\n  </tbody>\n</table>\n</div>",
            "text/plain": "                             validation_0                    validation_1\nerror             [0.06725, 0.067, 0.067]         [0.1535, 0.151, 0.1505]\nerror@0.7  [0.104125, 0.103875, 0.103625]           [0.239, 0.239, 0.239]\nauc         [0.92729, 0.932045, 0.934238]  [0.898305, 0.905611, 0.909242]"
          },
          "metadata": {}
        }
      ],
      "execution_count": 19,
      "metadata": {}
    },
    {
      "cell_type": "code",
      "source": [],
      "outputs": [],
      "execution_count": null,
      "metadata": {}
    },
    {
      "cell_type": "code",
      "source": [],
      "outputs": [],
      "execution_count": null,
      "metadata": {}
    },
    {
      "cell_type": "code",
      "source": [],
      "outputs": [],
      "execution_count": null,
      "metadata": {}
    },
    {
      "cell_type": "code",
      "source": [],
      "outputs": [],
      "execution_count": null,
      "metadata": {}
    },
    {
      "cell_type": "code",
      "source": [],
      "outputs": [],
      "execution_count": null,
      "metadata": {}
    },
    {
      "cell_type": "code",
      "source": [],
      "outputs": [],
      "execution_count": null,
      "metadata": {}
    },
    {
      "cell_type": "code",
      "source": [],
      "outputs": [],
      "execution_count": null,
      "metadata": {}
    },
    {
      "cell_type": "code",
      "source": [],
      "outputs": [],
      "execution_count": null,
      "metadata": {}
    },
    {
      "cell_type": "code",
      "source": [],
      "outputs": [],
      "execution_count": null,
      "metadata": {}
    },
    {
      "cell_type": "code",
      "source": [],
      "outputs": [],
      "execution_count": null,
      "metadata": {}
    },
    {
      "cell_type": "code",
      "source": [],
      "outputs": [],
      "execution_count": null,
      "metadata": {}
    },
    {
      "cell_type": "code",
      "source": [],
      "outputs": [],
      "execution_count": null,
      "metadata": {}
    },
    {
      "cell_type": "code",
      "source": [],
      "outputs": [],
      "execution_count": null,
      "metadata": {}
    },
    {
      "cell_type": "code",
      "source": [],
      "outputs": [],
      "execution_count": null,
      "metadata": {}
    },
    {
      "cell_type": "code",
      "source": [],
      "outputs": [],
      "execution_count": null,
      "metadata": {}
    },
    {
      "cell_type": "code",
      "source": [],
      "outputs": [],
      "execution_count": null,
      "metadata": {}
    },
    {
      "cell_type": "code",
      "source": [],
      "outputs": [],
      "execution_count": null,
      "metadata": {}
    },
    {
      "cell_type": "code",
      "source": [],
      "outputs": [],
      "execution_count": null,
      "metadata": {}
    },
    {
      "cell_type": "code",
      "source": [],
      "outputs": [],
      "execution_count": null,
      "metadata": {}
    }
  ],
  "metadata": {
    "kernelspec": {
      "display_name": "Python 3",
      "language": "python",
      "name": "python3"
    },
    "language_info": {
      "codemirror_mode": {
        "name": "ipython",
        "version": 3
      },
      "file_extension": ".py",
      "mimetype": "text/x-python",
      "name": "python",
      "nbconvert_exporter": "python",
      "pygments_lexer": "ipython3",
      "version": "3.8.2"
    },
    "nteract": {
      "version": "0.28.0"
    }
  },
  "nbformat": 4,
  "nbformat_minor": 4
}